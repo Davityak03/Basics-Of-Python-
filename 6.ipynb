{
 "cells": [
  {
   "cell_type": "markdown",
   "metadata": {
    "id": "egzZ5gRgL7LG"
   },
   "source": [
    "\n",
    " Download CSV File from link - https://drive.google.com/file/d/1OmUctbaMnIxNhyyLYG2iJOtkclZvs0TB/view?usp=sharing\n"
   ]
  },
  {
   "cell_type": "markdown",
   "metadata": {
    "id": "-mPnr6e9MPxw"
   },
   "source": [
    "q1: From the given dataset print the first and last five rows"
   ]
  },
  {
   "cell_type": "code",
   "execution_count": 1,
   "metadata": {
    "id": "4Nt18IYkMURz"
   },
   "outputs": [
    {
     "name": "stdout",
     "output_type": "stream",
     "text": [
      "First five rows are:\n",
      "    Unnamed: 0  index      company   body-style  wheel-base  length  \\\n",
      "0           0      0  alfa-romero  convertible        88.6   168.8   \n",
      "1           1      1  alfa-romero  convertible        88.6   168.8   \n",
      "2           2      2  alfa-romero    hatchback        94.5   171.2   \n",
      "3           3      3         audi        sedan        99.8   176.6   \n",
      "4           4      4         audi        sedan        99.4   176.6   \n",
      "\n",
      "  engine-type num-of-cylinders  horsepower  average-mileage    price  \n",
      "0        dohc             four         111               21  13495.0  \n",
      "1        dohc             four         111               21  16500.0  \n",
      "2        ohcv              six         154               19  16500.0  \n",
      "3         ohc             four         102               24  13950.0  \n",
      "4         ohc             five         115               18  17450.0  \n",
      "Last five rows are:\n",
      "     Unnamed: 0  index     company body-style  wheel-base  length engine-type  \\\n",
      "56          56     81  volkswagen      sedan        97.3   171.7         ohc   \n",
      "57          57     82  volkswagen      sedan        97.3   171.7         ohc   \n",
      "58          58     86  volkswagen      sedan        97.3   171.7         ohc   \n",
      "59          59     87       volvo      sedan       104.3   188.8         ohc   \n",
      "60          60     88       volvo      wagon       104.3   188.8         ohc   \n",
      "\n",
      "   num-of-cylinders  horsepower  average-mileage    price  \n",
      "56             four          85               27   7975.0  \n",
      "57             four          52               37   7995.0  \n",
      "58             four         100               26   9995.0  \n",
      "59             four         114               23  12940.0  \n",
      "60             four         114               23  13415.0  \n"
     ]
    }
   ],
   "source": [
    "import pandas as pd\n",
    "df=pd.read_csv(\"Automobile_data.csv\")\n",
    "print(\"First five rows are:\\n\",df.head(5))\n",
    "print(\"Last five rows are:\\n\",df.tail(5))"
   ]
  },
  {
   "cell_type": "markdown",
   "metadata": {
    "id": "EYER5hqUMUsM"
   },
   "source": [
    "q2: Clean the dataset and update the CSV file. Replace all column values which contain ?, n.a, or NaN with ?"
   ]
  },
  {
   "cell_type": "code",
   "execution_count": 9,
   "metadata": {
    "id": "kMrvBbACMfKe"
   },
   "outputs": [
    {
     "name": "stdout",
     "output_type": "stream",
     "text": [
      "    Unnamed: 0  index      company   body-style  wheel-base  length  \\\n",
      "0            0      0  alfa-romero  convertible        88.6   168.8   \n",
      "1            1      1  alfa-romero  convertible        88.6   168.8   \n",
      "2            2      2  alfa-romero    hatchback        94.5   171.2   \n",
      "3            3      3         audi        sedan        99.8   176.6   \n",
      "4            4      4         audi        sedan        99.4   176.6   \n",
      "..         ...    ...          ...          ...         ...     ...   \n",
      "56          56     81   volkswagen        sedan        97.3   171.7   \n",
      "57          57     82   volkswagen        sedan        97.3   171.7   \n",
      "58          58     86   volkswagen        sedan        97.3   171.7   \n",
      "59          59     87        volvo        sedan       104.3   188.8   \n",
      "60          60     88        volvo        wagon       104.3   188.8   \n",
      "\n",
      "   engine-type num-of-cylinders  horsepower  average-mileage  price  \n",
      "0         dohc             four         111               21  13495  \n",
      "1         dohc             four         111               21  16500  \n",
      "2         ohcv              six         154               19  16500  \n",
      "3          ohc             four         102               24  13950  \n",
      "4          ohc             five         115               18  17450  \n",
      "..         ...              ...         ...              ...    ...  \n",
      "56         ohc             four          85               27   7975  \n",
      "57         ohc             four          52               37   7995  \n",
      "58         ohc             four         100               26   9995  \n",
      "59         ohc             four         114               23  12940  \n",
      "60         ohc             four         114               23  13415  \n",
      "\n",
      "[61 rows x 11 columns]\n"
     ]
    }
   ],
   "source": [
    "df2=pd.read_csv(\"Automobile_data.csv\")\n",
    "df2=df2.fillna(\"?\")\n",
    "print(df2)"
   ]
  },
  {
   "cell_type": "markdown",
   "metadata": {
    "id": "dqLK_ThCMfcD"
   },
   "source": [
    "q3: Print most expensive car’s company name and price."
   ]
  },
  {
   "cell_type": "code",
   "execution_count": 10,
   "metadata": {
    "id": "4i_crVyVMg83"
   },
   "outputs": [
    {
     "name": "stdout",
     "output_type": "stream",
     "text": [
      "          company    price\n",
      "35  mercedes-benz  45400.0\n"
     ]
    }
   ],
   "source": [
    "df1=df[['company','price']][df['price']==df['price'].max()]\n",
    "print(df1)"
   ]
  },
  {
   "cell_type": "markdown",
   "metadata": {
    "id": "qUUkjZbgMjKs"
   },
   "source": [
    "q4: Print All Toyota Cars details"
   ]
  },
  {
   "cell_type": "code",
   "execution_count": 4,
   "metadata": {
    "id": "wrned4JiMkli"
   },
   "outputs": [
    {
     "name": "stdout",
     "output_type": "stream",
     "text": [
      "    Unnamed: 0  index company body-style  wheel-base  length engine-type  \\\n",
      "48          48     66  toyota  hatchback        95.7   158.7         ohc   \n",
      "49          49     67  toyota  hatchback        95.7   158.7         ohc   \n",
      "50          50     68  toyota  hatchback        95.7   158.7         ohc   \n",
      "51          51     69  toyota      wagon        95.7   169.7         ohc   \n",
      "52          52     70  toyota      wagon        95.7   169.7         ohc   \n",
      "53          53     71  toyota      wagon        95.7   169.7         ohc   \n",
      "54          54     79  toyota      wagon       104.5   187.8        dohc   \n",
      "\n",
      "   num-of-cylinders  horsepower  average-mileage    price  \n",
      "48             four          62               35   5348.0  \n",
      "49             four          62               31   6338.0  \n",
      "50             four          62               31   6488.0  \n",
      "51             four          62               31   6918.0  \n",
      "52             four          62               27   7898.0  \n",
      "53             four          62               27   8778.0  \n",
      "54              six         156               19  15750.0  \n"
     ]
    }
   ],
   "source": [
    "df2 = df[df['company']=='toyota']\n",
    "print(df2)"
   ]
  },
  {
   "cell_type": "markdown",
   "metadata": {
    "id": "goIBa28IMkyq"
   },
   "source": [
    "q5: Count total cars per company"
   ]
  },
  {
   "cell_type": "code",
   "execution_count": 5,
   "metadata": {
    "id": "B2um33kfMoLN"
   },
   "outputs": [
    {
     "name": "stdout",
     "output_type": "stream",
     "text": [
      "company\n",
      "alfa-romero      3\n",
      "audi             4\n",
      "bmw              6\n",
      "chevrolet        3\n",
      "dodge            2\n",
      "honda            3\n",
      "isuzu            3\n",
      "jaguar           3\n",
      "mazda            5\n",
      "mercedes-benz    4\n",
      "mitsubishi       4\n",
      "nissan           5\n",
      "porsche          3\n",
      "toyota           7\n",
      "volkswagen       4\n",
      "volvo            2\n",
      "Name: company, dtype: int64\n"
     ]
    }
   ],
   "source": [
    "df5=df.groupby(['company'])['company'].count()\n",
    "print(df5)"
   ]
  },
  {
   "cell_type": "markdown",
   "metadata": {
    "id": "xgGNRls6Moa9"
   },
   "source": []
  },
  {
   "cell_type": "markdown",
   "metadata": {
    "id": "cd6ePgIhMrDg"
   },
   "source": [
    "q6: Find each company’s Higesht price car"
   ]
  },
  {
   "cell_type": "code",
   "execution_count": 6,
   "metadata": {
    "id": "PIMZjo2zMsND"
   },
   "outputs": [
    {
     "name": "stdout",
     "output_type": "stream",
     "text": [
      "company\n",
      "alfa-romero      16500.0\n",
      "audi             18920.0\n",
      "bmw              41315.0\n",
      "chevrolet         6575.0\n",
      "dodge             6377.0\n",
      "honda            12945.0\n",
      "isuzu             6785.0\n",
      "jaguar           36000.0\n",
      "mazda            18344.0\n",
      "mercedes-benz    45400.0\n",
      "mitsubishi        8189.0\n",
      "nissan           13499.0\n",
      "porsche          37028.0\n",
      "toyota           15750.0\n",
      "volkswagen        9995.0\n",
      "volvo            13415.0\n",
      "Name: price, dtype: float64\n"
     ]
    }
   ],
   "source": [
    "df6=df.groupby(['company'])['price'].max()\n",
    "print(df6)"
   ]
  },
  {
   "cell_type": "markdown",
   "metadata": {
    "id": "luAkcHItMsmg"
   },
   "source": []
  },
  {
   "cell_type": "markdown",
   "metadata": {
    "id": "DmsKfckIMvmd"
   },
   "source": [
    "q7: Find the average mileage of each car making company"
   ]
  },
  {
   "cell_type": "code",
   "execution_count": 7,
   "metadata": {
    "id": "YLJ5imweMw9-"
   },
   "outputs": [
    {
     "name": "stdout",
     "output_type": "stream",
     "text": [
      "company\n",
      "alfa-romero      20.333333\n",
      "audi             20.000000\n",
      "bmw              19.000000\n",
      "chevrolet        41.000000\n",
      "dodge            31.000000\n",
      "honda            26.333333\n",
      "isuzu            33.333333\n",
      "jaguar           14.333333\n",
      "mazda            28.000000\n",
      "mercedes-benz    18.000000\n",
      "mitsubishi       29.500000\n",
      "nissan           31.400000\n",
      "porsche          17.000000\n",
      "toyota           28.714286\n",
      "volkswagen       31.750000\n",
      "volvo            23.000000\n",
      "Name: average-mileage, dtype: float64\n"
     ]
    }
   ],
   "source": [
    "df7=df.groupby(['company'])['average-mileage'].mean()\n",
    "print(df7)"
   ]
  },
  {
   "cell_type": "markdown",
   "metadata": {
    "id": "4EULeMqvMxcT"
   },
   "source": [
    "q8: Sort all cars by Price column"
   ]
  },
  {
   "cell_type": "code",
   "execution_count": 8,
   "metadata": {
    "id": "PPYTbprKMzzD"
   },
   "outputs": [
    {
     "name": "stdout",
     "output_type": "stream",
     "text": [
      "    Unnamed: 0  index        company body-style  wheel-base  length  \\\n",
      "13          13     16      chevrolet  hatchback        88.4   141.1   \n",
      "27          27     36          mazda  hatchback        93.1   159.1   \n",
      "48          48     66         toyota  hatchback        95.7   158.7   \n",
      "36          36     49     mitsubishi  hatchback        93.7   157.3   \n",
      "28          28     37          mazda  hatchback        93.1   159.1   \n",
      "..         ...    ...            ...        ...         ...     ...   \n",
      "11          11     14            bmw      sedan       103.5   193.8   \n",
      "35          35     47  mercedes-benz    hardtop       112.0   199.2   \n",
      "22          22     31          isuzu      sedan        94.5   155.9   \n",
      "23          23     32          isuzu      sedan        94.5   155.9   \n",
      "47          47     63        porsche  hatchback        98.4   175.7   \n",
      "\n",
      "   engine-type num-of-cylinders  horsepower  average-mileage    price  \n",
      "13           l            three          48               47   5151.0  \n",
      "27         ohc             four          68               30   5195.0  \n",
      "48         ohc             four          62               35   5348.0  \n",
      "36         ohc             four          68               37   5389.0  \n",
      "28         ohc             four          68               31   6095.0  \n",
      "..         ...              ...         ...              ...      ...  \n",
      "11         ohc              six         182               16  41315.0  \n",
      "35        ohcv            eight         184               14  45400.0  \n",
      "22         ohc             four          70               38      NaN  \n",
      "23         ohc             four          70               38      NaN  \n",
      "47       dohcv            eight         288               17      NaN  \n",
      "\n",
      "[61 rows x 11 columns]\n"
     ]
    }
   ],
   "source": [
    "df8=df.sort_values('price')\n",
    "print(df8)"
   ]
  },
  {
   "cell_type": "markdown",
   "metadata": {
    "id": "ikzbxaF_M0LP"
   },
   "source": []
  }
 ],
 "metadata": {
  "colab": {
   "provenance": []
  },
  "kernelspec": {
   "display_name": "Python 3 (ipykernel)",
   "language": "python",
   "name": "python3"
  },
  "language_info": {
   "codemirror_mode": {
    "name": "ipython",
    "version": 3
   },
   "file_extension": ".py",
   "mimetype": "text/x-python",
   "name": "python",
   "nbconvert_exporter": "python",
   "pygments_lexer": "ipython3",
   "version": "3.11.3"
  }
 },
 "nbformat": 4,
 "nbformat_minor": 1
}
