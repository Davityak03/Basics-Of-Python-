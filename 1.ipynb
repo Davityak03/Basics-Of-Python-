{
 "cells": [
  {
   "cell_type": "markdown",
   "metadata": {
    "id": "Qpsppct8jz7V"
   },
   "source": []
  },
  {
   "cell_type": "markdown",
   "metadata": {
    "id": "WhsNm1FvkMzm"
   },
   "source": [
    "Q1: Find average Marks\n",
    "Write a program to input marks of three tests of a student (all integers). Then calculate and print the average of all test marks.\n"
   ]
  },
  {
   "cell_type": "code",
   "execution_count": 2,
   "metadata": {
    "id": "OR7RLxgIjfuV"
   },
   "outputs": [
    {
     "name": "stdout",
     "output_type": "stream",
     "text": [
      "Enter the marks of subject 1:87\n",
      "Enter the marks of subject 2:89\n",
      "Enter the marks of subject 3:98\n",
      "Average of the subjects is: 91.33\n"
     ]
    }
   ],
   "source": [
    "x=int(input(\"Enter the marks of subject 1:\"))\n",
    "y=int(input(\"Enter the marks of subject 2:\"))\n",
    "z=int(input(\"Enter the marks of subject 3:\"))\n",
    "avg=(x+y+z)/3\n",
    "print(\"Average of the subjects is:\",round(avg,2))"
   ]
  },
  {
   "cell_type": "markdown",
   "metadata": {
    "id": "HF0uS15DkaQ_"
   },
   "source": [
    "Q2: Find X raised to power N\n",
    "You are given two numbers ’x’(it’s a float), and ’n’(it’s a integer).\n",
    "\n",
    "Your task is to calculate ‘x’ raised to power ‘n’, and return it."
   ]
  },
  {
   "cell_type": "code",
   "execution_count": 3,
   "metadata": {
    "id": "lenfyvxfklsd"
   },
   "outputs": [
    {
     "name": "stdout",
     "output_type": "stream",
     "text": [
      "Enter X:12.56\n",
      "Enter n:3\n",
      "X raised to power n is : 1981.3852160000001\n"
     ]
    }
   ],
   "source": [
    "x=float(input(\"Enter X:\"))\n",
    "n=int(input(\"Enter n:\"))\n",
    "z=x**n\n",
    "print(\"X raised to power n is :\",z)"
   ]
  },
  {
   "cell_type": "markdown",
   "metadata": {
    "id": "WBtg4LRnk9NN"
   },
   "source": [
    "Q3: Check Palindrome\n",
    "Given a string, determine if it is a palindrome, considering only alphanumeric characters."
   ]
  },
  {
   "cell_type": "code",
   "execution_count": 12,
   "metadata": {
    "id": "07HQ2AYflBcV"
   },
   "outputs": [
    {
     "name": "stdout",
     "output_type": "stream",
     "text": [
      "Enter the string to be checked:NOON\n",
      "Yes it is palindrome \n"
     ]
    }
   ],
   "source": [
    "pl=input(\"Enter the string to be checked:\")\n",
    "if(pl==pl[::-1]):\n",
    "    print(\"Yes it is palindrome \")\n",
    "else:\n",
    "    print(\"No it is not a palindrome\")"
   ]
  },
  {
   "cell_type": "code",
   "execution_count": null,
   "metadata": {
    "id": "bl0uexpDcO94"
   },
   "outputs": [],
   "source": [
    "Q4:\n",
    "Consider the string str=”Global Warming” Write statements in Python to implement the following\n",
    "(a) To display the last four characters.\n",
    "(b) To display the substring starting from index 4 and ending at index 8.\n",
    "(c) To check whether string has alphanu-meric characters or not\n",
    "(d) To trim the last four characters from the string.\n",
    "(e) To trim the first four characters from the string.\n",
    "(f) To display the starting index for the substring „ WaD.\n",
    "(g) To change the case of the given string.\n",
    "(h) To check if the string is in title case.\n",
    "(i) To replace all the occurrences of letter „aD in the string with „*?"
   ]
  },
  {
   "cell_type": "code",
   "execution_count": 10,
   "metadata": {
    "id": "VliqtnNCcQ5Q"
   },
   "outputs": [
    {
     "name": "stdout",
     "output_type": "stream",
     "text": [
      "ming\n",
      "al Wa\n",
      "False\n",
      "Global War\n",
      "al War\n",
      "3\n",
      "AL wAR\n",
      "False\n",
      "al W*?\n"
     ]
    }
   ],
   "source": [
    "str=\"Global Warming\"\n",
    "#a\n",
    "print(str[-4:])\n",
    "#b\n",
    "print(str[4:9])\n",
    "#c\n",
    "print(str.isalpha())##false for no numeric value in string and true for numeric values on string\n",
    "#d\n",
    "str=str[:-4]\n",
    "print(str)\n",
    "#e\n",
    "str=str[4:]\n",
    "print(str)\n",
    "#f\n",
    "print(str.find(\"War\"))\n",
    "#g\n",
    "print(str.swapcase( ))\n",
    "#h\n",
    "print(str.istitle())#false if not title\n",
    "#i\n",
    "print(str.replace(\"ar\",\"*?\"))"
   ]
  },
  {
   "cell_type": "code",
   "execution_count": 14,
   "metadata": {},
   "outputs": [
    {
     "name": "stdout",
     "output_type": "stream",
     "text": [
      "Enter the name:davitya\n",
      "Hello davitya\n"
     ]
    }
   ],
   "source": [
    "#TO ENTER NAME AND WELCOME THE USER\n",
    "x=input(\"Enter the name:\")\n",
    "print(\"Hello\",x)"
   ]
  },
  {
   "cell_type": "code",
   "execution_count": 15,
   "metadata": {},
   "outputs": [
    {
     "name": "stdout",
     "output_type": "stream",
     "text": [
      "Enter the number of hours:2.5\n",
      "Enter the rate:7.6\n",
      "Pay 19.0\n"
     ]
    }
   ],
   "source": [
    "#Write a program to prompt the user for hours and rate per hour\n",
    "x=float(input(\"Enter the number of hours:\"))\n",
    "y=float(input(\"Enter the rate:\"))\n",
    "print(\"Pay\",x*y)"
   ]
  },
  {
   "cell_type": "code",
   "execution_count": 21,
   "metadata": {},
   "outputs": [
    {
     "name": "stdout",
     "output_type": "stream",
     "text": [
      "Enter the height:4.3\n",
      "Enter the width:5\n",
      "<class 'int'>\n",
      "<class 'float'>\n",
      "<class 'float'>\n",
      "<class 'int'>\n"
     ]
    }
   ],
   "source": [
    "#width and height operations \n",
    "x=float(input(\"Enter the height:\"))\n",
    "y=int(input(\"Enter the width:\"))\n",
    "print(type(y//2))\n",
    "print(type(y/2.0))\n",
    "print(type(x/3))\n",
    "print(type(1+2*5))"
   ]
  },
  {
   "cell_type": "code",
   "execution_count": 18,
   "metadata": {},
   "outputs": [
    {
     "name": "stdout",
     "output_type": "stream",
     "text": [
      "Enter the celsius temperature:0\n",
      "Fahrenite temperature is 32.0\n"
     ]
    }
   ],
   "source": [
    "#convert the celsius to fahrenite\n",
    "c=int(input(\"Enter the celsius temperature:\"))\n",
    "f=(c*(9/5))+32\n",
    "print(\"Fahrenite temperature is\",f)"
   ]
  },
  {
   "cell_type": "code",
   "execution_count": 20,
   "metadata": {},
   "outputs": [
    {
     "name": "stdout",
     "output_type": "stream",
     "text": [
      "Enter the number:12\n",
      "Enter the number:13\n",
      "Enter the number:14\n",
      "Enter the number:15\n",
      "Enter the number:16\n",
      "count of even numbers are: 3\n",
      "count of odd number are: 2\n"
     ]
    }
   ],
   "source": [
    "#count number of odd and even numbers\n",
    "count_even=0\n",
    "count_odd=0\n",
    "for i in range(0,5):\n",
    "    x=int(input(\"Enter the number:\"))\n",
    "    if(x%2==0):\n",
    "        count_even=count_even+1\n",
    "    else:\n",
    "        count_odd=count_odd+1\n",
    "print(\"count of even numbers are:\",count_even)\n",
    "print(\"count of odd number are:\",count_odd)"
   ]
  },
  {
   "cell_type": "code",
   "execution_count": null,
   "metadata": {},
   "outputs": [],
   "source": []
  }
 ],
 "metadata": {
  "colab": {
   "provenance": []
  },
  "kernelspec": {
   "display_name": "Python 3 (ipykernel)",
   "language": "python",
   "name": "python3"
  },
  "language_info": {
   "codemirror_mode": {
    "name": "ipython",
    "version": 3
   },
   "file_extension": ".py",
   "mimetype": "text/x-python",
   "name": "python",
   "nbconvert_exporter": "python",
   "pygments_lexer": "ipython3",
   "version": "3.11.3"
  }
 },
 "nbformat": 4,
 "nbformat_minor": 1
}
