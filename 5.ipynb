{
 "cells": [
  {
   "cell_type": "markdown",
   "metadata": {
    "id": "3_7QzPaOy9U8"
   },
   "source": [
    "q1: Create a 1D array of numbers from 0 to 9"
   ]
  },
  {
   "cell_type": "code",
   "execution_count": 1,
   "metadata": {
    "id": "7rjjFETyyure"
   },
   "outputs": [
    {
     "name": "stdout",
     "output_type": "stream",
     "text": [
      "[0 1 2 3 4 5 6 7 8 9]\n"
     ]
    }
   ],
   "source": [
    "import numpy as np\n",
    "arr1=np.arange(10)\n",
    "print(arr1)"
   ]
  },
  {
   "cell_type": "markdown",
   "metadata": {
    "id": "lb7k5Okuy_t8"
   },
   "source": [
    "q2: Create a 3×3 numpy array of all True’s"
   ]
  },
  {
   "cell_type": "code",
   "execution_count": 3,
   "metadata": {
    "id": "o3NfMPeDzEPT"
   },
   "outputs": [
    {
     "name": "stdout",
     "output_type": "stream",
     "text": [
      "[[ True  True  True]\n",
      " [ True  True  True]\n",
      " [ True  True  True]]\n"
     ]
    }
   ],
   "source": [
    "arr1=np.array([[True,True,True],[True,True,True],[True,True,True]])\n",
    "print(arr1)"
   ]
  },
  {
   "cell_type": "markdown",
   "metadata": {
    "id": "5ob95mm-zEpm"
   },
   "source": [
    "q3: Extract all odd numbers from an array of n numbers"
   ]
  },
  {
   "cell_type": "code",
   "execution_count": 7,
   "metadata": {
    "id": "EUAG32JAzNpT"
   },
   "outputs": [
    {
     "name": "stdout",
     "output_type": "stream",
     "text": [
      "Enter the value of n:13\n",
      "[ 0  2  4  6  8 10 12]\n"
     ]
    }
   ],
   "source": [
    "n=int(input(\"Enter the value of n:\"))\n",
    "list1=[i for i in range(n+1)]\n",
    "arr1=np.array(list1)\n",
    "for i in arr1:\n",
    "    if i%2!=0:\n",
    "        arr1=np.delete(arr1,np.where(arr1==i))\n",
    "print(arr1)"
   ]
  },
  {
   "cell_type": "markdown",
   "metadata": {
    "id": "rBu16E5yzORA"
   },
   "source": [
    "q4: Replace all odd numbers in array with -1"
   ]
  },
  {
   "cell_type": "code",
   "execution_count": 10,
   "metadata": {
    "id": "1-v1CGfgzSzU"
   },
   "outputs": [
    {
     "name": "stdout",
     "output_type": "stream",
     "text": [
      "Enter the value of n:13\n",
      "[ 0 -1  2 -1  4 -1  6 -1  8 -1 10 -1 12 -1]\n"
     ]
    }
   ],
   "source": [
    "n=int(input(\"Enter the value of n:\"))\n",
    "list1=[i for i in range(n+1)]\n",
    "arr1=np.array(list1)\n",
    "for i in arr1:\n",
    "    if i%2!=0:\n",
    "        arr1[arr1==i]=-1\n",
    "print(arr1)"
   ]
  },
  {
   "cell_type": "markdown",
   "metadata": {
    "id": "cT77E8ehzTFw"
   },
   "source": [
    "q5: Convert a 1D array to a 2D array with 2 rows\n"
   ]
  },
  {
   "cell_type": "code",
   "execution_count": 13,
   "metadata": {
    "id": "bUBQUhx6zhQJ"
   },
   "outputs": [
    {
     "name": "stdout",
     "output_type": "stream",
     "text": [
      "After reshaping and having 2 rows:\n",
      "[[ 1  6  3  9]\n",
      " [ 5 10 11  8]]\n"
     ]
    }
   ],
   "source": [
    "arr = np.array([1, 6, 3, 9, 5, 10, 11, 8])\n",
    "arr2 = arr.reshape(2, 4)\n",
    "print ('After reshaping and having 2 rows:')\n",
    "print (arr2)"
   ]
  },
  {
   "cell_type": "markdown",
   "metadata": {
    "id": "2ORqXNXOzhjE"
   },
   "source": [
    "q6: Get the common items between two arrays"
   ]
  },
  {
   "cell_type": "code",
   "execution_count": 16,
   "metadata": {
    "id": "Lf1mGvGbzyGV"
   },
   "outputs": [
    {
     "name": "stdout",
     "output_type": "stream",
     "text": [
      "The common elements are: [4 5 6]\n"
     ]
    }
   ],
   "source": [
    "arr1=np.array([1,2,3,4,5,6])\n",
    "arr2=np.array([4,5,6,7,8,9,10])\n",
    "result = np.intersect1d(arr1, arr2)\n",
    "print(\"The common elements are:\", result)"
   ]
  },
  {
   "cell_type": "markdown",
   "metadata": {
    "id": "6B2hEd9Dz2i6"
   },
   "source": [
    "q7: From array - a remove all items present in array - b"
   ]
  },
  {
   "cell_type": "code",
   "execution_count": 17,
   "metadata": {
    "id": "iRmXPMgnz4km"
   },
   "outputs": [
    {
     "name": "stdout",
     "output_type": "stream",
     "text": [
      "[1 2 3]\n"
     ]
    }
   ],
   "source": [
    "arr1=np.array([1,2,3,4,5,6])\n",
    "arr2=np.array([4,5,6,7,8,9,10])\n",
    "result=np.setdiff1d(arr1, arr2, assume_unique=True)#arr1 and arr2 are unique\n",
    "print(result)"
   ]
  },
  {
   "cell_type": "markdown",
   "metadata": {
    "id": "HyHyXwWM3bv1"
   },
   "source": [
    "Download the Iris Data CSV File from link - https://drive.google.com/file/d/1KzIR0hK9F17jhzOT3KH2mmWrCoDWpDpQ/view?usp=sharing\n",
    "\n"
   ]
  },
  {
   "cell_type": "markdown",
   "metadata": {
    "id": "1OtfhuLQ3vq7"
   },
   "source": [
    "q8: Find the mean, median, standard deviation of iris's sepallength (1st column)"
   ]
  },
  {
   "cell_type": "code",
   "execution_count": 28,
   "metadata": {
    "id": "kT0uLfIX3xp6"
   },
   "outputs": [
    {
     "name": "stdout",
     "output_type": "stream",
     "text": [
      "Mean is: 5.84\n",
      "Median is: 5.8\n",
      "Standard deviation is: 0.8280661279778628\n"
     ]
    }
   ],
   "source": [
    "import pandas as pd\n",
    "import math \n",
    "df=pd.read_csv('Iris.csv')\n",
    "b=df.iloc[:,1].values#to get value of the column sepallength\n",
    "length=len(b)\n",
    "mean= np.mean(b)\n",
    "print(\"Mean is:\",round(mean,2))#to roundoff til 2 decimal places\n",
    "median=np.median(b)\n",
    "print(\"Median is:\",round(median,2))\n",
    "sum=0\n",
    "for i in b:\n",
    "    sum=sum+((i-mean)**2)\n",
    "sd=math.sqrt(sum/(length-1))\n",
    "print(\"Standard deviation is:\",sd)    "
   ]
  },
  {
   "cell_type": "markdown",
   "metadata": {
    "id": "oEfJu9T131ha"
   },
   "source": [
    "q9: Create a normalized form of iris's sepallength whose values range exactly between 0 and 1 so that the minimum has value 0 and maximum has value 1.\n",
    "\n",
    "Use following Normalization Formula ->\n",
    "\n",
    " x normalized = (x – x minimum) / (x maximum – x minimum)"
   ]
  },
  {
   "cell_type": "code",
   "execution_count": 45,
   "metadata": {
    "id": "XwqzMaNs4RE_"
   },
   "outputs": [
    {
     "name": "stdout",
     "output_type": "stream",
     "text": [
      "Normalised sepallength is:\n",
      " [0.22222222222222213, 0.1666666666666668, 0.11111111111111119, 0.08333333333333327, 0.19444444444444448, 0.30555555555555564, 0.08333333333333327, 0.19444444444444448, 0.027777777777777922, 0.1666666666666668, 0.30555555555555564, 0.13888888888888887, 0.13888888888888887, 0.0, 0.41666666666666663, 0.38888888888888895, 0.30555555555555564, 0.22222222222222213, 0.38888888888888895, 0.22222222222222213, 0.30555555555555564, 0.22222222222222213, 0.08333333333333327, 0.22222222222222213, 0.13888888888888887, 0.19444444444444448, 0.19444444444444448, 0.25000000000000006, 0.25000000000000006, 0.11111111111111119, 0.13888888888888887, 0.30555555555555564, 0.25000000000000006, 0.3333333333333333, 0.1666666666666668, 0.19444444444444448, 0.3333333333333333, 0.1666666666666668, 0.027777777777777922, 0.22222222222222213, 0.19444444444444448, 0.055555555555555594, 0.027777777777777922, 0.19444444444444448, 0.22222222222222213, 0.13888888888888887, 0.22222222222222213, 0.08333333333333327, 0.27777777777777773, 0.19444444444444448, 0.7499999999999999, 0.5833333333333334, 0.7222222222222222, 0.3333333333333333, 0.611111111111111, 0.38888888888888895, 0.5555555555555555, 0.1666666666666668, 0.6388888888888887, 0.25000000000000006, 0.19444444444444448, 0.44444444444444453, 0.4722222222222222, 0.4999999999999999, 0.361111111111111, 0.6666666666666666, 0.361111111111111, 0.41666666666666663, 0.5277777777777778, 0.361111111111111, 0.44444444444444453, 0.4999999999999999, 0.5555555555555555, 0.4999999999999999, 0.5833333333333334, 0.6388888888888887, 0.6944444444444443, 0.6666666666666666, 0.4722222222222222, 0.38888888888888895, 0.3333333333333333, 0.3333333333333333, 0.41666666666666663, 0.4722222222222222, 0.30555555555555564, 0.4722222222222222, 0.6666666666666666, 0.5555555555555555, 0.361111111111111, 0.3333333333333333, 0.3333333333333333, 0.4999999999999999, 0.41666666666666663, 0.19444444444444448, 0.361111111111111, 0.38888888888888895, 0.38888888888888895, 0.5277777777777778, 0.22222222222222213, 0.38888888888888895, 0.5555555555555555, 0.41666666666666663, 0.7777777777777776, 0.5555555555555555, 0.611111111111111, 0.9166666666666665, 0.1666666666666668, 0.8333333333333333, 0.6666666666666666, 0.8055555555555556, 0.611111111111111, 0.5833333333333334, 0.6944444444444443, 0.38888888888888895, 0.41666666666666663, 0.5833333333333334, 0.611111111111111, 0.9444444444444444, 0.9444444444444444, 0.4722222222222222, 0.7222222222222222, 0.361111111111111, 0.9444444444444444, 0.5555555555555555, 0.6666666666666666, 0.8055555555555556, 0.5277777777777778, 0.4999999999999999, 0.5833333333333334, 0.8055555555555556, 0.8611111111111112, 1.0, 0.5833333333333334, 0.5555555555555555, 0.4999999999999999, 0.9444444444444444, 0.5555555555555555, 0.5833333333333334, 0.4722222222222222, 0.7222222222222222, 0.6666666666666666, 0.7222222222222222, 0.41666666666666663, 0.6944444444444443, 0.6666666666666666, 0.6666666666666666, 0.5555555555555555, 0.611111111111111, 0.5277777777777778, 0.44444444444444453]\n"
     ]
    }
   ],
   "source": [
    "b=df.iloc[:,1].values\n",
    "list1=[]\n",
    "for i in b:\n",
    "    x=(i-np.min(b))/(np.max(b)-np.min(b))\n",
    "    list1.append(x)\n",
    "print(\"Normalised sepallength is:\\n\",list1)"
   ]
  },
  {
   "cell_type": "markdown",
   "metadata": {
    "id": "CDDBt9wh4t_d"
   },
   "source": [
    "q10: Filter the rows of iris data that has petallength (3rd column) > 1.5 and sepallength (1st column) < 5.0"
   ]
  },
  {
   "cell_type": "code",
   "execution_count": 36,
   "metadata": {
    "id": "k5XoRbrU49IQ"
   },
   "outputs": [
    {
     "name": "stdout",
     "output_type": "stream",
     "text": [
      "Final result is:\n",
      "       Id  SepalLengthCm  SepalWidthCm  PetalLengthCm  PetalWidthCm  \\\n",
      "11    12            4.8           3.4            1.6           0.2   \n",
      "24    25            4.8           3.4            1.9           0.2   \n",
      "29    30            4.7           3.2            1.6           0.2   \n",
      "30    31            4.8           3.1            1.6           0.2   \n",
      "57    58            4.9           2.4            3.3           1.0   \n",
      "106  107            4.9           2.5            4.5           1.7   \n",
      "\n",
      "             Species  \n",
      "11       Iris-setosa  \n",
      "24       Iris-setosa  \n",
      "29       Iris-setosa  \n",
      "30       Iris-setosa  \n",
      "57   Iris-versicolor  \n",
      "106   Iris-virginica  \n"
     ]
    }
   ],
   "source": [
    "df=pd.read_csv('Iris.csv')\n",
    "b=df.loc[(df['PetalLengthCm']>1.5) & (df['SepalLengthCm']<5.0)]\n",
    "print(\"Final result is:\\n\",b)"
   ]
  },
  {
   "cell_type": "markdown",
   "metadata": {
    "id": "Fp-X4IXV49gV"
   },
   "source": [
    "q12: Bin the petal length (3rd) column of iris data to form a text array, such that if petal length is:\n",
    "\n",
    "Less than 3 --> 'small'\n",
    "\n",
    "3-5 --> 'medium'\n",
    "\n",
    "->5 --> 'large'\n"
   ]
  },
  {
   "cell_type": "code",
   "execution_count": 48,
   "metadata": {
    "id": "yTztkOFC5Jn_"
   },
   "outputs": [
    {
     "name": "stdout",
     "output_type": "stream",
     "text": [
      "Small: [1.4, 1.4, 1.3, 1.5, 1.4, 1.7, 1.4, 1.5, 1.4, 1.5, 1.5, 1.6, 1.4, 1.1, 1.2, 1.5, 1.3, 1.4, 1.7, 1.5, 1.7, 1.5, 1.0, 1.7, 1.9, 1.6, 1.6, 1.5, 1.4, 1.6, 1.6, 1.5, 1.5, 1.4, 1.5, 1.2, 1.3, 1.5, 1.3, 1.5, 1.3, 1.3, 1.3, 1.6, 1.9, 1.4, 1.6, 1.4, 1.5, 1.4]\n",
      "Medium: [4.7, 4.5, 4.9, 4.0, 4.6, 4.5, 4.7, 3.3, 4.6, 3.9, 3.5, 4.2, 4.0, 4.7, 3.6, 4.4, 4.5, 4.1, 4.5, 3.9, 4.8, 4.0, 4.9, 4.7, 4.3, 4.4, 4.8, 4.5, 3.5, 3.8, 3.7, 3.9, 4.5, 4.5, 4.7, 4.4, 4.1, 4.0, 4.4, 4.6, 4.0, 3.3, 4.2, 4.2, 4.2, 4.3, 3.0, 4.1, 4.5, 4.9, 4.9, 4.8, 4.9, 4.8]\n",
      "Large: [5.1, 6.0, 5.1, 5.9, 5.6, 5.8, 6.6, 6.3, 5.8, 6.1, 5.1, 5.3, 5.5, 5.1, 5.3, 5.5, 6.7, 6.9, 5.7, 6.7, 5.7, 6.0, 5.6, 5.8, 6.1, 6.4, 5.6, 5.1, 5.6, 6.1, 5.6, 5.5, 5.4, 5.6, 5.1, 5.1, 5.9, 5.7, 5.2, 5.2, 5.4, 5.1]\n"
     ]
    }
   ],
   "source": [
    "small = []\n",
    "medium = []\n",
    "large = []\n",
    "Petal_length = np.array(df.loc[:,\"PetalLengthCm\"])\n",
    "for i in Petal_length:\n",
    "    if i<3:\n",
    "        small.append(i)\n",
    "    elif i>=3 and i<5:\n",
    "        medium.append(i)\n",
    "    elif i>5:\n",
    "        large.append(i)\n",
    "    else:\n",
    "        pass\n",
    "print(\"Small:\",small)\n",
    "print(\"Medium:\",medium)\n",
    "print(\"Large:\",large)"
   ]
  },
  {
   "cell_type": "markdown",
   "metadata": {
    "id": "4bb-PABO5J8H"
   },
   "source": [
    "q13: Sort the iris dataset based on sepallength column."
   ]
  },
  {
   "cell_type": "code",
   "execution_count": 39,
   "metadata": {
    "id": "Lzt7uNW55SRA"
   },
   "outputs": [
    {
     "name": "stdout",
     "output_type": "stream",
     "text": [
      "Sorted dataframe based on sapellength is:\n",
      "       Id  SepalLengthCm  SepalWidthCm  PetalLengthCm  PetalWidthCm  \\\n",
      "13    14            4.3           3.0            1.1           0.1   \n",
      "42    43            4.4           3.2            1.3           0.2   \n",
      "38    39            4.4           3.0            1.3           0.2   \n",
      "8      9            4.4           2.9            1.4           0.2   \n",
      "41    42            4.5           2.3            1.3           0.3   \n",
      "..   ...            ...           ...            ...           ...   \n",
      "122  123            7.7           2.8            6.7           2.0   \n",
      "118  119            7.7           2.6            6.9           2.3   \n",
      "117  118            7.7           3.8            6.7           2.2   \n",
      "135  136            7.7           3.0            6.1           2.3   \n",
      "131  132            7.9           3.8            6.4           2.0   \n",
      "\n",
      "            Species  \n",
      "13      Iris-setosa  \n",
      "42      Iris-setosa  \n",
      "38      Iris-setosa  \n",
      "8       Iris-setosa  \n",
      "41      Iris-setosa  \n",
      "..              ...  \n",
      "122  Iris-virginica  \n",
      "118  Iris-virginica  \n",
      "117  Iris-virginica  \n",
      "135  Iris-virginica  \n",
      "131  Iris-virginica  \n",
      "\n",
      "[150 rows x 6 columns]\n"
     ]
    }
   ],
   "source": [
    "b=df.sort_values('SepalLengthCm')\n",
    "print(\"Sorted dataframe based on sapellength is:\\n\",b)"
   ]
  },
  {
   "cell_type": "markdown",
   "metadata": {
    "id": "Rm5dTAz35SgT"
   },
   "source": [
    "q14: Find the most frequent value of petal length (3rd column) in iris dataset."
   ]
  },
  {
   "cell_type": "code",
   "execution_count": 42,
   "metadata": {
    "id": "B9NJRmrN5Tmw"
   },
   "outputs": [
    {
     "name": "stdout",
     "output_type": "stream",
     "text": [
      "The most frequent value of PetalLengthCm is: 1.5\n"
     ]
    }
   ],
   "source": [
    "print(\"The most frequent value of PetalLengthCm is:\",df['PetalLengthCm'].mode()[0])"
   ]
  },
  {
   "cell_type": "code",
   "execution_count": null,
   "metadata": {},
   "outputs": [],
   "source": []
  }
 ],
 "metadata": {
  "colab": {
   "provenance": []
  },
  "kernelspec": {
   "display_name": "Python 3 (ipykernel)",
   "language": "python",
   "name": "python3"
  },
  "language_info": {
   "codemirror_mode": {
    "name": "ipython",
    "version": 3
   },
   "file_extension": ".py",
   "mimetype": "text/x-python",
   "name": "python",
   "nbconvert_exporter": "python",
   "pygments_lexer": "ipython3",
   "version": "3.11.3"
  }
 },
 "nbformat": 4,
 "nbformat_minor": 1
}
