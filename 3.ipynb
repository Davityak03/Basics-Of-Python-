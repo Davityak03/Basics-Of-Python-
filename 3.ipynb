{
 "cells": [
  {
   "cell_type": "markdown",
   "metadata": {
    "id": "TW1n7bXT5Uiq"
   },
   "source": [
    "q1: WAP to find minimum element from a list of elements along with its index in the list\n"
   ]
  },
  {
   "cell_type": "code",
   "execution_count": 2,
   "metadata": {
    "id": "WR-Gu2KE5W2Z"
   },
   "outputs": [
    {
     "name": "stdout",
     "output_type": "stream",
     "text": [
      "minimum element in list is: 3 at index 1\n"
     ]
    }
   ],
   "source": [
    "list1=[12,3,4,6,7,43,4,884,90]\n",
    "print(\"minimum element in list is:\",min(list1),\"at index\",list1.index(min(list1)))\n"
   ]
  },
  {
   "cell_type": "markdown",
   "metadata": {
    "id": "euBvksXo5Ymp"
   },
   "source": [
    "q2: WAP to calculate mean of a given list of numbers\n"
   ]
  },
  {
   "cell_type": "code",
   "execution_count": 2,
   "metadata": {
    "id": "o_LXBkLI5akx"
   },
   "outputs": [
    {
     "name": "stdout",
     "output_type": "stream",
     "text": [
      "Mean of list is: 23.29\n"
     ]
    }
   ],
   "source": [
    "list1=[1,2,3,4,56,7,90]\n",
    "sum1=sum(list1)\n",
    "length=len(list1)\n",
    "mean=sum1/length\n",
    "print(\"Mean of list is:\",round(mean,2))"
   ]
  },
  {
   "cell_type": "markdown",
   "metadata": {
    "id": "58wnq5x45cbh"
   },
   "source": [
    "q3: WAP to search for an element in a given list of numbers\n"
   ]
  },
  {
   "cell_type": "code",
   "execution_count": 3,
   "metadata": {
    "id": "JFAsSFJL5eZ4"
   },
   "outputs": [
    {
     "name": "stdout",
     "output_type": "stream",
     "text": [
      "Enter the element to be searched:12\n",
      "Index of the given element is: 0\n"
     ]
    }
   ],
   "source": [
    "list1=[12,3,4,6,7,43,4,884,90]\n",
    "x=int(input(\"Enter the element to be searched:\"))\n",
    "print(\"Index of the given element is:\",list1.index(x))"
   ]
  },
  {
   "cell_type": "markdown",
   "metadata": {
    "id": "avu7uWYK5ffQ"
   },
   "source": [
    "q4: WAP to count frequency of given elements in a list of numbers\n"
   ]
  },
  {
   "cell_type": "code",
   "execution_count": 4,
   "metadata": {
    "id": "P5gFEM_W5hSo"
   },
   "outputs": [
    {
     "name": "stdout",
     "output_type": "stream",
     "text": [
      "Enter the element to be counted:12\n",
      "Count of the given element is: 2\n"
     ]
    }
   ],
   "source": [
    "list1=[12,3,4,6,7,43,4,884,90,12]\n",
    "x=int(input(\"Enter the element to be counted:\"))\n",
    "print(\"Count of the given element is:\",list1.count(x))"
   ]
  },
  {
   "cell_type": "markdown",
   "metadata": {
    "id": "4CWqs2Mb5imQ"
   },
   "source": [
    "q5: WAP to find frequencies of all elements of a list. Also print the list of unique elements in the list and duplicate elements in the list\n"
   ]
  },
  {
   "cell_type": "code",
   "execution_count": 27,
   "metadata": {
    "id": "aY7SqM4o5kSg"
   },
   "outputs": [
    {
     "name": "stdout",
     "output_type": "stream",
     "text": [
      "Elements is : 12 Frequency of that element is: 2\n",
      "Elements is : 4 Frequency of that element is: 2\n",
      "Elements is : 7 Frequency of that element is: 1\n",
      "Elements is : 13 Frequency of that element is: 2\n",
      "Elements is : 4 Frequency of that element is: 1\n",
      "Elements is : 884 Frequency of that element is: 1\n",
      "Elements is : 90 Frequency of that element is: 1\n",
      "Elements is : 12 Frequency of that element is: 1\n",
      "Elements is : 13 Frequency of that element is: 1\n",
      "Unique elements list: [3, 6, 7, 43, 4, 884, 90, 12, 13]\n",
      "Duplicate elements list: [12, 4, 13]\n"
     ]
    }
   ],
   "source": [
    "list1=[12,3,4,6,7,13,43,4,884,90,12,13]\n",
    "list2=[]\n",
    "for x in list1:\n",
    "    print(\"Elements is :\",x,\"Frequency of that element is:\",list1.count(x))\n",
    "    if list1.count(x)>1:\n",
    "        list2.append(x)\n",
    "        list1.remove(x)\n",
    "print(\"Unique elements list:\",list1)\n",
    "print(\"Duplicate elements list:\",list2)        "
   ]
  },
  {
   "cell_type": "markdown",
   "metadata": {
    "id": "mMDttxqp5mCI"
   },
   "source": [
    "q6: WAP to calculate and display sum of all odd numbers in the list\n"
   ]
  },
  {
   "cell_type": "code",
   "execution_count": 5,
   "metadata": {
    "id": "YXQLZfyx5nq5"
   },
   "outputs": [
    {
     "name": "stdout",
     "output_type": "stream",
     "text": [
      "sum of odd number is: 79\n"
     ]
    }
   ],
   "source": [
    "list1=[12,3,4,6,7,13,43,4,884,90,12,13]\n",
    "j=0\n",
    "for i in list1:\n",
    "    if(i%2!=0):\n",
    "        j=j+i\n",
    "print(\"sum of odd number is:\",j)"
   ]
  },
  {
   "cell_type": "markdown",
   "metadata": {
    "id": "h1UyV1-35o6I"
   },
   "source": [
    "q7: WAP to find second largest number of a tuples of numbers\n"
   ]
  },
  {
   "cell_type": "code",
   "execution_count": 12,
   "metadata": {
    "id": "790b7HBK5qbA"
   },
   "outputs": [
    {
     "name": "stdout",
     "output_type": "stream",
     "text": [
      "2nd largest number in tuple is: 9\n"
     ]
    }
   ],
   "source": [
    "t=(1,2,3,4,5,6,9,87,1,3)\n",
    "t1=sorted(t)\n",
    "print(\"2nd largest number in tuple is:\",t1[-2])"
   ]
  },
  {
   "cell_type": "markdown",
   "metadata": {
    "id": "v5eUzOfV5rco"
   },
   "source": [
    "q8: Given a list in Python and provided the positions of the elements, write a program to swap the two elements in the list.\n"
   ]
  },
  {
   "cell_type": "code",
   "execution_count": 6,
   "metadata": {
    "id": "2LGzLU7W5tG4"
   },
   "outputs": [
    {
     "name": "stdout",
     "output_type": "stream",
     "text": [
      "Enter the index of the first number:3\n",
      "Enter the index of the second number:6\n",
      "[12, 3, 4, 43, 7, 13, 6, 4, 884, 90, 12, 13]\n"
     ]
    }
   ],
   "source": [
    "list1=[12,3,4,6,7,13,43,4,884,90,12,13]\n",
    "x1=int(input(\"Enter the index of the first number:\"))\n",
    "x2=int(input(\"Enter the index of the second number:\"))\n",
    "a=list1[x1]\n",
    "b=list1[x2]\n",
    "list1[x1]=b\n",
    "list1[x2]=a\n",
    "print(list1)"
   ]
  },
  {
   "cell_type": "markdown",
   "metadata": {
    "id": "IDt7TJ4t5uaJ"
   },
   "source": [
    "q9: WAP to reverse All Strings in String List\n"
   ]
  },
  {
   "cell_type": "code",
   "execution_count": 7,
   "metadata": {
    "id": "FKta90Fy5wHo"
   },
   "outputs": [
    {
     "name": "stdout",
     "output_type": "stream",
     "text": [
      "['eman', 'olleh', 'eyb', 'htrae']\n"
     ]
    }
   ],
   "source": [
    "list1=[\"name\",\"hello\",\"bye\",\"earth\"]\n",
    "for i in range (0,len(list1)):\n",
    "    list1[i]=list1[i][::-1]\n",
    "print(list1)\n",
    "    "
   ]
  },
  {
   "cell_type": "markdown",
   "metadata": {
    "id": "sjkgZduM5xDA"
   },
   "source": [
    "q10: WAP to  find the maximum frequency element in the tuple"
   ]
  },
  {
   "cell_type": "code",
   "execution_count": 12,
   "metadata": {
    "id": "xn0VH-aF511A"
   },
   "outputs": [
    {
     "name": "stdout",
     "output_type": "stream",
     "text": [
      "Maximum frequency element is 3 with frequency of 5\n"
     ]
    }
   ],
   "source": [
    "t=(1,2,3,4,5,6,9,87,1,3,6,7,3,3,3)\n",
    "x=1\n",
    "for i in t:\n",
    "    if t.count(i)>x:\n",
    "        x=t.count(i)\n",
    "        y=i\n",
    "print(\"Maximum frequency element is\",y,\"with frequency of\",x)"
   ]
  },
  {
   "cell_type": "markdown",
   "metadata": {
    "id": "uh7KSqa6akNx"
   },
   "source": [
    "q11. WAP to illustrate Stack Operations using List\n",
    "\n",
    "\n",
    "\n",
    "\n",
    "\n"
   ]
  },
  {
   "cell_type": "code",
   "execution_count": 15,
   "metadata": {
    "id": "PMklGolqapwA"
   },
   "outputs": [
    {
     "name": "stdout",
     "output_type": "stream",
     "text": [
      "[1, 4, 6, 4, 7, 9, 6, 4, 7, 65, 9]\n",
      "popped element is: 9\n",
      "[1, 4, 6, 4, 7, 9, 6, 4, 7, 65]\n",
      "Enter the element to be pushed in stack:23\n",
      "[1, 4, 6, 4, 7, 9, 6, 4, 7, 65, 23]\n"
     ]
    }
   ],
   "source": [
    "def pop():\n",
    "    print(\"popped element is:\",list1.pop(-1))\n",
    "    print(list1)\n",
    "def push():\n",
    "    x=int(input(\"Enter the element to be pushed in stack:\"))\n",
    "    list1.append(x)\n",
    "    print(list1)\n",
    "list1=[1,4,6,4,7,9,6,4,7,65,9]\n",
    "print(list1)\n",
    "pop()\n",
    "push()\n"
   ]
  },
  {
   "cell_type": "markdown",
   "metadata": {
    "id": "gdyLEz_Zayqg"
   },
   "source": [
    "q12. WAP to illustrate Queue Operations using List"
   ]
  },
  {
   "cell_type": "code",
   "execution_count": 24,
   "metadata": {
    "id": "U8Ak67_ja5I4"
   },
   "outputs": [
    {
     "name": "stdout",
     "output_type": "stream",
     "text": [
      "Queue:\n",
      "['hello', 'world', 'python']\n",
      "Dequed elements are:\n",
      "hello\n",
      "world\n",
      "python\n",
      "Final Queue after removal of elments is:\n",
      "[]\n"
     ]
    }
   ],
   "source": [
    "queue = []\n",
    "queue.append('hello')#enqueue\n",
    "queue.append('world')\n",
    "queue.append('python')\n",
    "print(\"Queue:\")\n",
    "print(queue)\n",
    "print(\"Dequed elements are:\")\n",
    "print(queue.pop(0))#dequeue\n",
    "print(queue.pop(0))\n",
    "print(queue.pop(0))\n",
    "print(\"Final Queue after removal of elments is:\")\n",
    "print(queue)"
   ]
  },
  {
   "cell_type": "markdown",
   "metadata": {
    "id": "JZwz6aT4bapY"
   },
   "source": [
    "q13. WAP that scans an email address and forms a tuple of user name and domain"
   ]
  },
  {
   "cell_type": "code",
   "execution_count": 22,
   "metadata": {
    "id": "EfrXogkeh2qF"
   },
   "outputs": [
    {
     "name": "stdout",
     "output_type": "stream",
     "text": [
      "Enter the number of emails to be inputted:2\n",
      "Enter the email id:davityak087872@gmail.com\n",
      "Enter the email id:davityaou@yahoo.com\n",
      "('davityak087872', 'davityaou')\n",
      "('gmail.com', 'yahoo.com')\n"
     ]
    }
   ],
   "source": [
    "user_list=[]\n",
    "domain_list=[]\n",
    "n=int(input(\"Enter the number of emails to be inputted:\"))\n",
    "for i in range(0,n):\n",
    "    l=input(\"Enter the email id:\")\n",
    "    user_name=l[0:l.index('@')]\n",
    "    domain=l[l.index('@')+1:]\n",
    "    user_list.append(user_name)\n",
    "    domain_list.append(domain)\n",
    "t2=tuple(user_list)\n",
    "t3=tuple(domain_list)\n",
    "print(t2)\n",
    "print(t3)"
   ]
  },
  {
   "cell_type": "markdown",
   "metadata": {
    "id": "rlh3PxQGh691"
   },
   "source": [
    "q14. WAP that accepts different number of arguments and return sum of only the positive values passed to it."
   ]
  },
  {
   "cell_type": "code",
   "execution_count": 19,
   "metadata": {
    "id": "6oMp_aPOiC5t"
   },
   "outputs": [
    {
     "name": "stdout",
     "output_type": "stream",
     "text": [
      "Enter the number of elemenets to be inputted:3\n",
      "Enter the number:-1\n",
      "Enter the number:2\n",
      "Enter the number:-3\n",
      "[2.0]\n",
      "Sum of all positive numbers is: 2.0\n"
     ]
    }
   ],
   "source": [
    "n=int(input(\"Enter the number of elemenets to be inputted:\"))\n",
    "list1=[]\n",
    "for i in range(0,n):\n",
    "    x=float(input(\"Enter the number:\"))\n",
    "    if x>=0:\n",
    "        list1.append(x)\n",
    "print(list1)\n",
    "print(\"Sum of all positive numbers is:\",sum(list1))"
   ]
  },
  {
   "cell_type": "markdown",
   "metadata": {
    "id": "dboS7aqOiY3d"
   },
   "source": [
    "q15. WAP to swap two values using tuple assignment"
   ]
  },
  {
   "cell_type": "code",
   "execution_count": 3,
   "metadata": {
    "id": "d-kza-Cpiejl"
   },
   "outputs": [
    {
     "name": "stdout",
     "output_type": "stream",
     "text": [
      "Enter the first number :12\n",
      "Enter the second number :13\n",
      "a= 12 b= 13\n",
      "a= 13 b= 12\n"
     ]
    }
   ],
   "source": [
    "x=int(input(\"Enter the first number :\"))\n",
    "y=int(input(\"Enter the second number :\"))\n",
    "print (\"a=\",x, \"b=\",y)\n",
    "(x,y)=(y,x)\n",
    "print(\"a=\",x, \"b=\",y)"
   ]
  },
  {
   "cell_type": "code",
   "execution_count": 1,
   "metadata": {},
   "outputs": [
    {
     "name": "stdout",
     "output_type": "stream",
     "text": [
      "Enter the value of k:2\n",
      "kth smallest element is: 4\n",
      "kth largest element is: 90\n"
     ]
    }
   ],
   "source": [
    "# to print the kth largest and smallest number in a list\n",
    "list1=[12,3,4,6,7,13,43,4,884,90,12,13]\n",
    "list1.sort()\n",
    "x=int(input(\"Enter the value of k:\"))\n",
    "l=len(list1)\n",
    "print(\"kth smallest element is:\",list1[x-1])\n",
    "print(\"kth largest element is:\",list1[-x])"
   ]
  },
  {
   "cell_type": "code",
   "execution_count": 2,
   "metadata": {},
   "outputs": [
    {
     "name": "stdout",
     "output_type": "stream",
     "text": [
      "Enter the the string element:hello\n",
      "Enter the the string element:noon\n",
      "Enter the the string element:why\n",
      "Enter the the string element:earth\n",
      "Enter the the string element:bye\n",
      "Enter the the string element:toot\n",
      "String is palindrome at index 1\n",
      "String is palindrome at index 5\n",
      "Total number of palindrome strings are: 2\n"
     ]
    }
   ],
   "source": [
    "#to find palindrome in 2d list\n",
    "count=0\n",
    "list1=[]\n",
    "for i in range(6):\n",
    "    string1=str(input(\"Enter the the string element:\"))\n",
    "    list1.append(string1)\n",
    "for pl in list1:\n",
    "    if(pl==pl[::-1]):\n",
    "        print(\"String is palindrome at index\",list1.index(pl))\n",
    "        count=count+1\n",
    "print(\"Total number of palindrome strings are:\",count)"
   ]
  },
  {
   "cell_type": "code",
   "execution_count": 3,
   "metadata": {},
   "outputs": [
    {
     "name": "stdout",
     "output_type": "stream",
     "text": [
      "[0, 1, 2, 3, 4, 5, 6, 7, 8]\n"
     ]
    }
   ],
   "source": [
    "list1=[i for i in range(0,9)]#list comprehensions\n",
    "print(list1)"
   ]
  },
  {
   "cell_type": "code",
   "execution_count": 4,
   "metadata": {},
   "outputs": [
    {
     "name": "stdout",
     "output_type": "stream",
     "text": [
      "Enter the integer element:56\n",
      "Enter the string input:hello\n",
      "Enter the float value:78.9\n",
      "Enter the boolean value:True\n",
      "Enter the integer element:789\n",
      "Enter the string input:why\n",
      "Enter the float value:89.04\n",
      "Enter the boolean value:False\n",
      "Enter the integer element:65\n",
      "Enter the string input:bye\n",
      "Enter the float value:78.89\n",
      "Enter the boolean value:True\n",
      "[[56, 'hello', 78.9, True, 789, 'why', 89.04, True, 65, 'bye', 78.89, True], [56, 'hello', 78.9, True, 789, 'why', 89.04, True, 65, 'bye', 78.89, True], [56, 'hello', 78.9, True, 789, 'why', 89.04, True, 65, 'bye', 78.89, True]]\n"
     ]
    }
   ],
   "source": [
    "#inputing different datatypes in a nested list\n",
    "list1=[]\n",
    "list2=[]\n",
    "for i in range(0,3):\n",
    "    x1=int(input(\"Enter the integer element:\"))\n",
    "    x2=str(input(\"Enter the string input:\"))\n",
    "    x3=float(input(\"Enter the float value:\"))\n",
    "    x4=bool(input(\"Enter the boolean value:\"))\n",
    "    list2.append(x1)\n",
    "    list2.append(x2)\n",
    "    list2.append(x3)\n",
    "    list2.append(x4)\n",
    "    list1.append(list2)\n",
    "print(list1)"
   ]
  },
  {
   "cell_type": "code",
   "execution_count": 5,
   "metadata": {},
   "outputs": [
    {
     "name": "stdout",
     "output_type": "stream",
     "text": [
      "14400\n"
     ]
    }
   ],
   "source": [
    "#multiplication of 2d elements\n",
    "x=1\n",
    "list1=[[1,2,3,4],[2,15,4,5]]\n",
    "for i in range (0,len(list1)):\n",
    "    for j in list1[i]:\n",
    "        x=x*j\n",
    "print(x)"
   ]
  },
  {
   "cell_type": "code",
   "execution_count": 6,
   "metadata": {},
   "outputs": [
    {
     "name": "stdout",
     "output_type": "stream",
     "text": [
      "String is palindrome at index: 0\n"
     ]
    }
   ],
   "source": [
    "#to check palindrome string in a tuple\n",
    "t=(\"noon\",\"hyello\",\"sad\")\n",
    "for i in t:\n",
    "    if i==i[::-1]:\n",
    "        print(\"String is palindrome at index:\",t.index(i))"
   ]
  },
  {
   "cell_type": "code",
   "execution_count": 7,
   "metadata": {},
   "outputs": [
    {
     "name": "stdout",
     "output_type": "stream",
     "text": [
      "{1, 2, 3, 4, 5, 6}\n",
      "{3, 4, 5, 6}\n",
      "{1, 2}\n",
      "{1, 2, 3, 4, 5, 6, 7}\n"
     ]
    }
   ],
   "source": [
    "#set operations\n",
    "set1={1,2,3,4,5}\n",
    "set2={1,2,7}\n",
    "set1.add(6)\n",
    "print(set1)\n",
    "print(set1-set2)\n",
    "print(set1.intersection(set2))\n",
    "print(set1.union(set2))"
   ]
  },
  {
   "cell_type": "code",
   "execution_count": 8,
   "metadata": {},
   "outputs": [
    {
     "name": "stdout",
     "output_type": "stream",
     "text": [
      "element: 4 count is: 2\n",
      "element: 6 count is: 2\n",
      "element: 7 count is: 2\n",
      "Number of elements that have been repeated is: 3\n"
     ]
    }
   ],
   "source": [
    "#counting the occurnces of duplicate elements and finding their index\n",
    "t=(1,2,3,4,4,5,6,7,7,6)\n",
    "j=0\n",
    "list1=[]\n",
    "for i in t:\n",
    "    if t.count(i)>1 and i not in list1:\n",
    "        print(\"element:\",i,\"count is:\",t.count(i))\n",
    "        list1.append(i)\n",
    "        j=j+1\n",
    "print(\"Number of elements that have been repeated is:\",j)"
   ]
  },
  {
   "cell_type": "code",
   "execution_count": null,
   "metadata": {},
   "outputs": [],
   "source": []
  }
 ],
 "metadata": {
  "colab": {
   "provenance": []
  },
  "kernelspec": {
   "display_name": "Python 3 (ipykernel)",
   "language": "python",
   "name": "python3"
  },
  "language_info": {
   "codemirror_mode": {
    "name": "ipython",
    "version": 3
   },
   "file_extension": ".py",
   "mimetype": "text/x-python",
   "name": "python",
   "nbconvert_exporter": "python",
   "pygments_lexer": "ipython3",
   "version": "3.11.3"
  }
 },
 "nbformat": 4,
 "nbformat_minor": 1
}
