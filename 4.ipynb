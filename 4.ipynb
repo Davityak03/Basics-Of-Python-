{
 "cells": [
  {
   "cell_type": "markdown",
   "metadata": {
    "id": "dkCKLBzTpUf6"
   },
   "source": [
    "q1: Write a Python program to return a new set with unique items from both sets by removing duplicates."
   ]
  },
  {
   "cell_type": "code",
   "execution_count": 43,
   "metadata": {
    "id": "MRv0FmdEpFOS"
   },
   "outputs": [
    {
     "name": "stdout",
     "output_type": "stream",
     "text": [
      "set1 is: {1, 2, 3, 4, 5, 6, 7}\n",
      "set2 is: {4, 5, 6, 7, 8, 9}\n",
      "new set3 is: {1, 2, 3, 8, 9}\n"
     ]
    }
   ],
   "source": [
    "set1={1,2,3,4,5,6,7}\n",
    "set2={4,5,6,7,8,9}\n",
    "print(\"set1 is:\",set1)\n",
    "print(\"set2 is:\",set2)\n",
    "s=set1.intersection(set2)\n",
    "set1=set1-s\n",
    "set2=set2-s\n",
    "set1.update(set2)\n",
    "set3=set1\n",
    "print(\"new set3 is:\",set3)"
   ]
  },
  {
   "cell_type": "markdown",
   "metadata": {
    "id": "zbdKzIAppbcZ"
   },
   "source": [
    "q2: Given two Python sets, write a Python program to update the first set with items that exist only in the first set and not in the second set."
   ]
  },
  {
   "cell_type": "code",
   "execution_count": 68,
   "metadata": {
    "id": "fKLtMx_ppKTb"
   },
   "outputs": [
    {
     "name": "stdout",
     "output_type": "stream",
     "text": [
      "{1, 2, 6, 7, 8, 10}\n"
     ]
    }
   ],
   "source": [
    "set1={1,2,4,5,6,7,8,10}\n",
    "set2={23,4,5,3,22,33,44}\n",
    "set1=set1.difference(set2)\n",
    "print(set1)"
   ]
  },
  {
   "cell_type": "markdown",
   "metadata": {
    "id": "FGOmlfnxppcb"
   },
   "source": [
    "q3: WAP to Check if two sets have any elements in common. If yes, display the common elements"
   ]
  },
  {
   "cell_type": "code",
   "execution_count": 35,
   "metadata": {
    "id": "IITJ_mG_pLxW"
   },
   "outputs": [
    {
     "name": "stdout",
     "output_type": "stream",
     "text": [
      "Common values are: {4, 5, 6, 7}\n"
     ]
    }
   ],
   "source": [
    "set1={1,2,3,4,5,6,7}\n",
    "set2={4,5,6,7,8,9}\n",
    "if (len(set1.intersection(set2))==0):\n",
    "    print(\"No common values.\")\n",
    "else:\n",
    "    print(\"Common values are:\",set1.intersection(set2))"
   ]
  },
  {
   "cell_type": "markdown",
   "metadata": {
    "id": "dHKHaWwQpu54"
   },
   "source": [
    "q4: WAP to Update set1 by adding items from set2, except common items"
   ]
  },
  {
   "cell_type": "code",
   "execution_count": 34,
   "metadata": {
    "id": "ggBTnY5MqJa2"
   },
   "outputs": [
    {
     "name": "stdout",
     "output_type": "stream",
     "text": [
      "updates set is: {1, 2, 3, 4, 5, 6, 7, 8, 9, 10, 11}\n"
     ]
    }
   ],
   "source": [
    "set1={1,2,3,4,5,6,7}\n",
    "set2={4,5,6,7,8,9,10,11}\n",
    "set3=set1.intersection(set2)\n",
    "set2=set2-set3\n",
    "set1.update(set2)\n",
    "print(\"updates set is:\",set1)"
   ]
  },
  {
   "cell_type": "markdown",
   "metadata": {
    "id": "rda6CKIJqPZL"
   },
   "source": [
    "q5: WAP to get the maximum and minimum element in a set in Python, using the built-in functions of Python"
   ]
  },
  {
   "cell_type": "code",
   "execution_count": 12,
   "metadata": {
    "id": "eZKsBISCqM3R"
   },
   "outputs": [
    {
     "name": "stdout",
     "output_type": "stream",
     "text": [
      "maximum element is set is: 98\n",
      "minium element in set is: 1\n"
     ]
    }
   ],
   "source": [
    "set1={1,2,3,4,3,78,1,98,78}\n",
    "print(\"maximum element is set is:\",max(set1))\n",
    "print(\"minium element in set is:\",min(set1))"
   ]
  },
  {
   "cell_type": "markdown",
   "metadata": {
    "id": "t4Yh0UkwqloK"
   },
   "source": [
    "q6: Below are the two lists. Write a Python program to convert them into a dictionary in a way that item from list1 is the key and item from list2 is the value\n",
    "\n",
    "keys = ['Ten', 'Twenty', 'Thirty']\n",
    "\n",
    "values = [10, 20, 30]"
   ]
  },
  {
   "cell_type": "code",
   "execution_count": 13,
   "metadata": {
    "id": "G93vTKYzqnaA"
   },
   "outputs": [
    {
     "name": "stdout",
     "output_type": "stream",
     "text": [
      "{'Ten': 10, 'Twenty': 20, 'Thirty': 30}\n"
     ]
    }
   ],
   "source": [
    "dict1={}\n",
    "keys=['Ten','Twenty','Thirty']\n",
    "values=[10,20,30]\n",
    "for i in range(3):\n",
    "    dict1[keys[i]]=values[i]\n",
    "print(dict1)"
   ]
  },
  {
   "cell_type": "markdown",
   "metadata": {
    "id": "JOCIhG3nrxo6"
   },
   "source": [
    "q7: Write a Python program to create a dictionary from a string.\n",
    "Note: Track the count of the letters from the string.\n",
    "\n",
    "Sample string : 'AIMLTraining'\n",
    "\n",
    "Expected output: {'A': 1, 'I': 1, 'M': 1, 'L': 1, 'T': 1, 'r': 1, 'a': 1, 'i': 2, 'n': 2, 'g': 1}\n"
   ]
  },
  {
   "cell_type": "code",
   "execution_count": 17,
   "metadata": {
    "id": "Uj36wraAsFlG"
   },
   "outputs": [
    {
     "name": "stdout",
     "output_type": "stream",
     "text": [
      "Enter the string:AIML Training\n",
      "{'A': 1, 'I': 1, 'M': 1, 'L': 1, 'T': 1, 'r': 1, 'a': 1, 'i': 2, 'n': 2, 'g': 1}\n"
     ]
    }
   ],
   "source": [
    "list1=list(input(\"Enter the string:\"))\n",
    "list1.remove(' ')\n",
    "dict1={}\n",
    "for i in list1:\n",
    "    dict1[i]=list1.count(i)\n",
    "print(dict1)"
   ]
  },
  {
   "cell_type": "markdown",
   "metadata": {
    "id": "qCyd8s6zsJ_z"
   },
   "source": [
    "q8: Write a Python program to get the top three items in a shop.\n",
    "Sample data: {'item1': 45.50, 'item2':35, 'item3': 41.30, 'item4':55, 'item5': 24}\n",
    "\n",
    "Expected Output:\n",
    "\n",
    "item4 55\n",
    "\n",
    "item1 45.5\n",
    "\n",
    "item3 41.3"
   ]
  },
  {
   "cell_type": "code",
   "execution_count": 61,
   "metadata": {
    "id": "bcdb3Ow-sMlQ"
   },
   "outputs": [
    {
     "name": "stdout",
     "output_type": "stream",
     "text": [
      "Top 3items in shop is:\n",
      "item3 41.3\n",
      "item1 45.5\n",
      "item4 55\n"
     ]
    }
   ],
   "source": [
    "dict1={'item1': 45.50, 'item2':35, 'item3': 41.30, 'item4':55, 'item5': 24}\n",
    "list1=list(dict1.keys())\n",
    "list3=[]\n",
    "list2=list(dict1.items())\n",
    "for i in list2:\n",
    "    list3.append(i[1])\n",
    "list3.sort()\n",
    "list3=list3[-3:]\n",
    "print(\"Top 3items in shop is:\")\n",
    "for j in list3:\n",
    "    for k in dict1:\n",
    "        if(dict1[k]==j):\n",
    "            print(k,dict1[k])\n"
   ]
  },
  {
   "cell_type": "markdown",
   "metadata": {
    "id": "rnZAGJ2XsbEc"
   },
   "source": [
    "q9:Write a Python program to filter a dictionary based on values.\n",
    "\n",
    "Original Dictionary:\n",
    "\n",
    "{'Cierra Vega': 175, 'Alden Cantrell': 180, 'Kierra Gentry': 165, 'Pierre Cox': 190}\n",
    "\n",
    "Marks greater than 170:\n",
    "\n",
    "{'Cierra Vega': 175, 'Alden Cantrell': 180, 'Pierre Cox': 190}"
   ]
  },
  {
   "cell_type": "code",
   "execution_count": 30,
   "metadata": {
    "id": "ZuAsI7ncse4D"
   },
   "outputs": [
    {
     "name": "stdout",
     "output_type": "stream",
     "text": [
      "Enter the marks that are greater than:170\n",
      "{'Cierra Vega': 175, 'Alden Cantrell': 180, 'Pierre Cox': 190}\n"
     ]
    }
   ],
   "source": [
    "dict1={'Cierra Vega':175,'Alden Cantrell':180,'Kierra Gentry':165,'Pierre Cox':190}\n",
    "x=int(input(\"Enter the marks that are greater than:\"))\n",
    "list1=list(dict1.keys())\n",
    "for i in list1:\n",
    "    if dict1.get(i)<x:\n",
    "        dict1.pop(i)\n",
    "print(dict1)"
   ]
  },
  {
   "cell_type": "code",
   "execution_count": null,
   "metadata": {},
   "outputs": [],
   "source": []
  }
 ],
 "metadata": {
  "colab": {
   "provenance": []
  },
  "kernelspec": {
   "display_name": "Python 3 (ipykernel)",
   "language": "python",
   "name": "python3"
  },
  "language_info": {
   "codemirror_mode": {
    "name": "ipython",
    "version": 3
   },
   "file_extension": ".py",
   "mimetype": "text/x-python",
   "name": "python",
   "nbconvert_exporter": "python",
   "pygments_lexer": "ipython3",
   "version": "3.11.3"
  }
 },
 "nbformat": 4,
 "nbformat_minor": 1
}
