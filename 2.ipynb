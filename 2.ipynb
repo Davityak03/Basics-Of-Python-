{
 "cells": [
  {
   "cell_type": "markdown",
   "metadata": {
    "id": "LqFJE_gmwKGc"
   },
   "source": [
    "Q1: Check number\n",
    "Given an integer n, find if n is positive, negative or 0.\n",
    "If n is positive, print \"Positive\"\n",
    "If n is negative, print \"Negative\"\n",
    "And if n is equal to 0, print \"Zero\"."
   ]
  },
  {
   "cell_type": "code",
   "execution_count": 4,
   "metadata": {
    "id": "uyEfs_DBwQT9"
   },
   "outputs": [
    {
     "name": "stdout",
     "output_type": "stream",
     "text": [
      "Enter the number:0\n",
      "ZERO\n"
     ]
    }
   ],
   "source": [
    "x=int(input(\"Enter the number:\"))\n",
    "if(x>0):\n",
    "    print(\"POSITIVE\")\n",
    "elif(x<0):\n",
    "    print(\"NEGATIVE\")\n",
    "else:\n",
    "    print(\"ZERO\")"
   ]
  },
  {
   "cell_type": "markdown",
   "metadata": {
    "id": "FNl9k0lhwRx0"
   },
   "source": [
    "Q2: Sum of n numbers\n",
    "Given an integer n, find and print the sum of numbers from 1 to n."
   ]
  },
  {
   "cell_type": "code",
   "execution_count": 70,
   "metadata": {
    "id": "eKwJHSJawU6j"
   },
   "outputs": [
    {
     "name": "stdout",
     "output_type": "stream",
     "text": [
      "Enter the value of n:12\n",
      "Sum: 78.0\n"
     ]
    }
   ],
   "source": [
    "n=int(input(\"Enter the value of n:\"))\n",
    "sum=(n*(n+1))/2\n",
    "print(\"Sum:\",sum)"
   ]
  },
  {
   "cell_type": "markdown",
   "metadata": {
    "id": "Z-q70uCtwWi7"
   },
   "source": [
    "Q3: Sum of Even Numbers\n",
    "Given a number N, print sum of all even numbers from 1 to N.\n"
   ]
  },
  {
   "cell_type": "code",
   "execution_count": 6,
   "metadata": {
    "id": "PB9fOChRwZ4U"
   },
   "outputs": [
    {
     "name": "stdout",
     "output_type": "stream",
     "text": [
      "Print sum of even numbers till : 12\n",
      "\n",
      "Sum of even numbers from 1 to 12 is : 42\n"
     ]
    }
   ],
   "source": [
    "N=int(input(\"Print sum of even numbers till : \"))\n",
    "sum=0\n",
    "for i in range(1,N+1):\n",
    "    if((i % 2) == 0):\n",
    "        sum=sum+i\n",
    "print(\"\\nSum of even numbers from 1 to\",N,\"is :\",sum)"
   ]
  },
  {
   "cell_type": "markdown",
   "metadata": {
    "id": "wSZKbsrgweT8"
   },
   "source": [
    "Q4: Reverse of a number\n",
    "Write a program to generate the reverse of a given number N. Print the corresponding reverse number.\n",
    "Note : If a number has trailing zeros, then its reverse will not include them. For e.g., reverse of 10400 will be 401 instead of 00401."
   ]
  },
  {
   "cell_type": "code",
   "execution_count": 77,
   "metadata": {
    "id": "sJPCOSf7wg00"
   },
   "outputs": [
    {
     "name": "stdout",
     "output_type": "stream",
     "text": [
      "Enter the number to be reversed:120900\n",
      "9021\n"
     ]
    }
   ],
   "source": [
    "a=input(\"Enter the number to be reversed:\")\n",
    "a=a[::-1]\n",
    "a=a.lstrip(\"0\")\n",
    "print(a)"
   ]
  },
  {
   "cell_type": "markdown",
   "metadata": {
    "id": "KmZCRg2swq_c"
   },
   "source": [
    "Q5: Nth Fibonacci Number\n",
    "Provided 'n' you have to find out the n-th Fibonacci Number. Example: Input: 6\n",
    "\n",
    "Output: 8"
   ]
  },
  {
   "cell_type": "code",
   "execution_count": 15,
   "metadata": {
    "id": "kcvNaHDnwwpU"
   },
   "outputs": [
    {
     "name": "stdout",
     "output_type": "stream",
     "text": [
      "Enter the nth fibonacci number:6\n",
      "8\n"
     ]
    }
   ],
   "source": [
    "x=int(input(\"Enter the nth fibonacci number:\"))\n",
    "a=0\n",
    "b=1\n",
    "for i in range(1,x):\n",
    "    c=a+b\n",
    "    a=b\n",
    "    b=c\n",
    "print(c)"
   ]
  },
  {
   "cell_type": "markdown",
   "metadata": {
    "id": "baBwwSCpxFUM"
   },
   "source": [
    "Q6: Fibonacci Member\n",
    "Given a number N, figure out if it is a member of fibonacci series or not. Return true if the number is member of fibonacci series else false."
   ]
  },
  {
   "cell_type": "code",
   "execution_count": 76,
   "metadata": {
    "id": "gW0tfYQ8xM1U"
   },
   "outputs": [
    {
     "name": "stdout",
     "output_type": "stream",
     "text": [
      "Enter the number:144\n",
      "144 Is a fibonacci number\n"
     ]
    }
   ],
   "source": [
    "import math\n",
    "x=int(input(\"Enter the number:\"))\n",
    "def isperfectsquare(x):\n",
    "    s=int(math.sqrt(x))\n",
    "    return(s*s==x)\n",
    "def isfibonacci(n):\n",
    "    return isperfectsquare(5*n*n+4) or isperfectsquare(5*n*n-4)\n",
    "for i in range(x,x+1):\n",
    "    if(isfibonacci(i)==True):\n",
    "        print(i,\"Is a fibonacci number\")\n",
    "    else:\n",
    "        print(i,\"Is not a fibonacci number\")"
   ]
  },
  {
   "cell_type": "markdown",
   "metadata": {
    "id": "TdPUC4oAxf88"
   },
   "source": [
    "Q7: Write a Python function to find the maximum of three numbers.\n"
   ]
  },
  {
   "cell_type": "code",
   "execution_count": 23,
   "metadata": {
    "id": "-OIQcFrNxhJz"
   },
   "outputs": [
    {
     "name": "stdout",
     "output_type": "stream",
     "text": [
      "Enter the number:-1\n",
      "Enter the number:-2.34\n",
      "Enter the number:5\n",
      "5.0\n"
     ]
    }
   ],
   "source": [
    "list=[]\n",
    "for i in range(0,3):\n",
    "    x=float(input(\"Enter the number:\"))\n",
    "    list.append(x)\n",
    "print(max(list))"
   ]
  },
  {
   "cell_type": "markdown",
   "metadata": {
    "id": "nwBrpmOTxiYz"
   },
   "source": [
    "Q8: Write a Program to calculate simple interest using function interest() that received principal amount, time and rate and returns calculated simple interest."
   ]
  },
  {
   "cell_type": "code",
   "execution_count": 22,
   "metadata": {
    "colab": {
     "base_uri": "https://localhost:8080/"
    },
    "id": "RibNmG6w5_uQ",
    "outputId": "c3625b52-eac0-443e-cbb6-dfbd5ff73b83"
   },
   "outputs": [
    {
     "name": "stdout",
     "output_type": "stream",
     "text": [
      "Enter the principal amount:12\n",
      "Enter the time period:13\n",
      "Enter the rate:14\n",
      "Simple interest is: 21.84\n"
     ]
    }
   ],
   "source": [
    "def interest(p,t,r):\n",
    "    i=(p*r*t)/100\n",
    "    print(\"Simple interest is:\",i)\n",
    "p=float(input(\"Enter the principal amount:\"))\n",
    "t=float(input(\"Enter the time period:\"))\n",
    "r=float(input(\"Enter the rate:\"))\n",
    "interest(p,t,r)"
   ]
  },
  {
   "cell_type": "markdown",
   "metadata": {
    "id": "H9E-PjlF_Ta1"
   },
   "source": [
    "Q9: WAP to accept three integers and print the largest of the three\n"
   ]
  },
  {
   "cell_type": "code",
   "execution_count": 83,
   "metadata": {
    "id": "9b4nvmdR_WQz"
   },
   "outputs": [
    {
     "name": "stdout",
     "output_type": "stream",
     "text": [
      "Enter the number:12\n",
      "Enter the number:13\n",
      "Enter the number:15\n",
      "15\n"
     ]
    }
   ],
   "source": [
    "list=[]\n",
    "for i in range(0,3):\n",
    "    x=int(input(\"Enter the number:\"))\n",
    "    list.append(x)\n",
    "print(max(list))"
   ]
  },
  {
   "cell_type": "markdown",
   "metadata": {
    "id": "nEYD_ia7_X7p"
   },
   "source": [
    "Q9: WAP that inputs three numbers and print sum of non-duplicate numbers. Duplicate numbers are ignored\n"
   ]
  },
  {
   "cell_type": "code",
   "execution_count": 48,
   "metadata": {
    "id": "WmSSqqiF_aE8"
   },
   "outputs": [
    {
     "name": "stdout",
     "output_type": "stream",
     "text": [
      "Enter the number:12\n",
      "Enter the number:12\n",
      "Enter the number:13\n",
      "25.0\n"
     ]
    }
   ],
   "source": [
    "hello=[]\n",
    "s=0\n",
    "for i in range(0,3):\n",
    "    x=float(input(\"Enter the number:\"))\n",
    "    if x not in hello:\n",
    "        hello.append(x)\n",
    "for j in hello:\n",
    "    s=s+j\n",
    "print(s)"
   ]
  },
  {
   "cell_type": "markdown",
   "metadata": {
    "id": "vQ4afYX5_bPe"
   },
   "source": [
    "Q10: WAP to display a menu for calculating area of circle or perimeter of circle\n"
   ]
  },
  {
   "cell_type": "code",
   "execution_count": 63,
   "metadata": {
    "id": "633csjYR_e3C"
   },
   "outputs": [
    {
     "name": "stdout",
     "output_type": "stream",
     "text": [
      "1.Area of Circle\n",
      "2.Perimeter of circle\n",
      "3.Exit\n",
      "Enter the option you want to choose:1\n",
      "Enter the value of radius of the circle:2\n",
      "Area of the circle is: 12.56\n",
      "1.Area of Circle\n",
      "2.Perimeter of circle\n",
      "3.Exit\n",
      "Enter the option you want to choose:2\n",
      "Enter the value of radius of the circle:3\n",
      "Perimeter of the circle is: 18.84\n",
      "1.Area of Circle\n",
      "2.Perimeter of circle\n",
      "3.Exit\n",
      "Enter the option you want to choose:3\n",
      "Program terminated\n"
     ]
    }
   ],
   "source": [
    "i=0\n",
    "while(i==0):\n",
    "    print(\"1.Area of Circle\")\n",
    "    print(\"2.Perimeter of circle\")\n",
    "    print(\"3.Exit\")\n",
    "    x=int(input(\"Enter the option you want to choose:\"))\n",
    "    if(x==1):\n",
    "        r=float(input(\"Enter the value of radius of the circle:\"))\n",
    "        area=3.14*r*r\n",
    "        print(\"Area of the circle is:\",area)\n",
    "    elif(x==2):\n",
    "        r=float(input(\"Enter the value of radius of the circle:\"))\n",
    "        peri=2*3.14*r\n",
    "        print(\"Perimeter of the circle is:\",peri)\n",
    "    elif(x==3):\n",
    "        print(\"Program terminated\")\n",
    "        i=2"
   ]
  },
  {
   "cell_type": "markdown",
   "metadata": {
    "id": "n2R_58zW_gDI"
   },
   "source": [
    "Q11: WAP that reads three numbers and prints them in ascending order\n"
   ]
  },
  {
   "cell_type": "code",
   "execution_count": 46,
   "metadata": {
    "id": "xd6AFrLW_h54"
   },
   "outputs": [
    {
     "name": "stdout",
     "output_type": "stream",
     "text": [
      "Enter the number:12\n",
      "Enter the number:1\n",
      "Enter the number:13\n",
      "1.0\n",
      "12.0\n",
      "13.0\n"
     ]
    }
   ],
   "source": [
    "hello=[]\n",
    "for i in range(0,3):\n",
    "    x=float(input(\"Enter the number:\"))\n",
    "    hello.append(x)\n",
    "hello.sort()\n",
    "for i in hello:\n",
    "    print(i)\n"
   ]
  },
  {
   "cell_type": "markdown",
   "metadata": {
    "id": "i99AuRvF_jEI"
   },
   "source": [
    "Q12: WAP that prints sum of natural numbers between two numbers taken as input\n"
   ]
  },
  {
   "cell_type": "code",
   "execution_count": 66,
   "metadata": {
    "id": "2Y3kB4Bb_lH8"
   },
   "outputs": [
    {
     "name": "stdout",
     "output_type": "stream",
     "text": [
      "Enter the initial number:12\n",
      "Enter the final numbar:20\n",
      "Sum of number between the two number is: 132.0\n"
     ]
    }
   ],
   "source": [
    "x=int(input(\"Enter the initial number:\"))\n",
    "y=int(input(\"Enter the final numbar:\"))\n",
    "sum1=(x*(x+1))/2\n",
    "sum2=(y*(y+1))/2\n",
    "print(\"Sum of number between the two number is:\",sum2-sum1)"
   ]
  },
  {
   "cell_type": "markdown",
   "metadata": {
    "id": "FvN9LR0G_mde"
   },
   "source": [
    "Q13: WAP to calculate factorial of a number\n"
   ]
  },
  {
   "cell_type": "code",
   "execution_count": 87,
   "metadata": {
    "id": "5k5F9LZL_pSu"
   },
   "outputs": [
    {
     "name": "stdout",
     "output_type": "stream",
     "text": [
      "Enter the number whose factorial is to be taken out:12\n",
      "Factorial of number is: 479001600\n"
     ]
    }
   ],
   "source": [
    "x=int(input(\"Enter the number whose factorial is to be taken out:\"))\n",
    "if x==1:\n",
    "    print(\"Factorial of number is: 1\")\n",
    "else:\n",
    "    i=1\n",
    "    for j in range(1,x+1):\n",
    "        i=i*j\n",
    "    print(\"Factorial of number is:\",i)"
   ]
  },
  {
   "cell_type": "markdown",
   "metadata": {
    "id": "aqNJbzTi_skj"
   },
   "source": [
    "Q14: WAP to input a number and test if it is a prime number or not\n"
   ]
  },
  {
   "cell_type": "code",
   "execution_count": 54,
   "metadata": {
    "id": "hTlXyB-x_uiw"
   },
   "outputs": [
    {
     "name": "stdout",
     "output_type": "stream",
     "text": [
      "Enter the number:13\n",
      "Number is prime\n"
     ]
    }
   ],
   "source": [
    "num=int(input(\"Enter the number:\"))\n",
    "lim=int(num/2)+1\n",
    "for i in range(2,lim):\n",
    "    rem=num%i\n",
    "    if rem==0:\n",
    "        print(\"Number is not prime\")\n",
    "        break\n",
    "    else:\n",
    "        print(\"Number is prime\")\n",
    "        break"
   ]
  },
  {
   "cell_type": "markdown",
   "metadata": {
    "id": "lYniPkQY_vpe"
   },
   "source": [
    "Q15: WAP to take String line as input and display following stats: Number of uppercase letters, Number of lowercase letters, Number of alphabets and Number of Digits\n"
   ]
  },
  {
   "cell_type": "code",
   "execution_count": 82,
   "metadata": {
    "id": "KF8BBSGe_yOZ"
   },
   "outputs": [
    {
     "name": "stdout",
     "output_type": "stream",
     "text": [
      "Enter the string:Hello World1234\n",
      "2\n",
      "8\n",
      "10\n",
      "4\n"
     ]
    }
   ],
   "source": [
    "str=input(\"Enter the string:\")\n",
    "space=0\n",
    "lower=0\n",
    "upper=0\n",
    "total=len(str)\n",
    "alpha=0\n",
    "for i in str:\n",
    "    if(i.islower()):\n",
    "        lower=lower+1\n",
    "    if(i.isupper()):\n",
    "        upper=upper+1\n",
    "    if(i.isalpha()):\n",
    "        alpha=alpha+1\n",
    "    if(i==\" \"):\n",
    "        space=space+1\n",
    "print(upper)\n",
    "print(lower)\n",
    "print(alpha)\n",
    "print(total-alpha-space)"
   ]
  },
  {
   "cell_type": "markdown",
   "metadata": {
    "id": "NHWzqFyZ_0MP"
   },
   "source": [
    "Q16: WAP to reads a line and a substring and display number of occurences of the given substring  in the line\n"
   ]
  },
  {
   "cell_type": "code",
   "execution_count": 50,
   "metadata": {
    "id": "0ucvjBMz_1lz"
   },
   "outputs": [
    {
     "name": "stdout",
     "output_type": "stream",
     "text": [
      "Enter the main string:hello world to hello\n",
      "Enter the substring:hello\n",
      "Occurence of hello in hello world to hello is 2\n"
     ]
    }
   ],
   "source": [
    "a=str(input(\"Enter the main string:\"))\n",
    "b=str(input(\"Enter the substring:\"))\n",
    "print(\"Occurence of\",b,\"in\",a,\"is\",a.count(b))"
   ]
  },
  {
   "cell_type": "markdown",
   "metadata": {
    "id": "XxdkeTkc_2hq"
   },
   "source": [
    "Q17: WAP that takes a string with multiple words and then capitalize the first letter of each word and forms a new string out of it\n"
   ]
  },
  {
   "cell_type": "code",
   "execution_count": 65,
   "metadata": {
    "id": "0tZzA6c__4qk"
   },
   "outputs": [
    {
     "name": "stdout",
     "output_type": "stream",
     "text": [
      "Enter the string:hello world on python\n",
      "Hello World On Python\n"
     ]
    }
   ],
   "source": [
    "x=input(\"Enter the string:\")\n",
    "print(x.title())"
   ]
  },
  {
   "cell_type": "code",
   "execution_count": 84,
   "metadata": {},
   "outputs": [
    {
     "name": "stdout",
     "output_type": "stream",
     "text": [
      "Enter the value of n:3\n",
      "Enter the value r:2\n",
      "3.0\n"
     ]
    }
   ],
   "source": [
    "#combination question\n",
    "def factorial_number(x):\n",
    "    i=1\n",
    "    for j in range(1,x+1):\n",
    "        i=i*j\n",
    "    return i\n",
    "n=int(input(\"Enter the value of n:\"))\n",
    "r=int(input(\"Enter the value r:\"))\n",
    "c=factorial_number(n)/(factorial_number(n-r)*factorial_number(r))\n",
    "print(c)"
   ]
  },
  {
   "cell_type": "code",
   "execution_count": 85,
   "metadata": {},
   "outputs": [
    {
     "name": "stdout",
     "output_type": "stream",
     "text": [
      "Enter the number whose factorial is to be taken out:12\n",
      "Factorial of number is: 479001600\n"
     ]
    }
   ],
   "source": [
    "#factorial of number using user defined function\n",
    "def factorial_number():\n",
    "    x=int(input(\"Enter the number whose factorial is to be taken out:\"))\n",
    "    i=1\n",
    "    for j in range(1,x+1):\n",
    "        i=i*j\n",
    "    print(\"Factorial of number is:\",i)\n",
    "factorial_number()"
   ]
  },
  {
   "cell_type": "code",
   "execution_count": 88,
   "metadata": {},
   "outputs": [
    {
     "name": "stdout",
     "output_type": "stream",
     "text": [
      "2 3 5\n"
     ]
    }
   ],
   "source": [
    "#default arguments\n",
    "def hello(a,b,c=5):\n",
    "    print(a,b,c)\n",
    "hello(2,3)"
   ]
  },
  {
   "cell_type": "code",
   "execution_count": 89,
   "metadata": {},
   "outputs": [
    {
     "name": "stdout",
     "output_type": "stream",
     "text": [
      "140717875738688\n",
      "140717875738688\n"
     ]
    }
   ],
   "source": [
    "#variables having same value pointing to same address\n",
    "a=10\n",
    "b=a+2-2\n",
    "print(id(a))\n",
    "print(id(b))"
   ]
  },
  {
   "cell_type": "code",
   "execution_count": 90,
   "metadata": {},
   "outputs": [
    {
     "name": "stdout",
     "output_type": "stream",
     "text": [
      "bye\n"
     ]
    }
   ],
   "source": [
    "#if 0 and 1(else)\n",
    "if 0:\n",
    "    print(\"hello\")\n",
    "else:\n",
    "    print(\"bye\")"
   ]
  },
  {
   "cell_type": "code",
   "execution_count": null,
   "metadata": {},
   "outputs": [],
   "source": []
  }
 ],
 "metadata": {
  "colab": {
   "provenance": []
  },
  "kernelspec": {
   "display_name": "Python 3 (ipykernel)",
   "language": "python",
   "name": "python3"
  },
  "language_info": {
   "codemirror_mode": {
    "name": "ipython",
    "version": 3
   },
   "file_extension": ".py",
   "mimetype": "text/x-python",
   "name": "python",
   "nbconvert_exporter": "python",
   "pygments_lexer": "ipython3",
   "version": "3.11.3"
  }
 },
 "nbformat": 4,
 "nbformat_minor": 1
}
